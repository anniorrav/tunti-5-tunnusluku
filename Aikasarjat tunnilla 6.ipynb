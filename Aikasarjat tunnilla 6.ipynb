{
 "cells": [
  {
   "cell_type": "code",
   "execution_count": 1,
   "metadata": {},
   "outputs": [],
   "source": [
    "import pandas as pd\n",
    "import matplotlib.pyplot as plt\n",
    "%matplotlib inline\n",
    "plt.style.use('seaborn-whitegrid')"
   ]
  },
  {
   "cell_type": "code",
   "execution_count": 2,
   "metadata": {},
   "outputs": [
    {
     "data": {
      "text/html": [
       "<div>\n",
       "<style scoped>\n",
       "    .dataframe tbody tr th:only-of-type {\n",
       "        vertical-align: middle;\n",
       "    }\n",
       "\n",
       "    .dataframe tbody tr th {\n",
       "        vertical-align: top;\n",
       "    }\n",
       "\n",
       "    .dataframe thead th {\n",
       "        text-align: right;\n",
       "    }\n",
       "</style>\n",
       "<table border=\"1\" class=\"dataframe\">\n",
       "  <thead>\n",
       "    <tr style=\"text-align: right;\">\n",
       "      <th></th>\n",
       "      <th>Date</th>\n",
       "      <th>Bid</th>\n",
       "      <th>Ask</th>\n",
       "      <th>Opening price</th>\n",
       "      <th>High price</th>\n",
       "      <th>Low price</th>\n",
       "      <th>Closing price</th>\n",
       "      <th>Average price</th>\n",
       "      <th>Total volume</th>\n",
       "      <th>Turnover</th>\n",
       "      <th>Trades</th>\n",
       "    </tr>\n",
       "  </thead>\n",
       "  <tbody>\n",
       "    <tr>\n",
       "      <th>0</th>\n",
       "      <td>18.2.2019</td>\n",
       "      <td>36.22</td>\n",
       "      <td>36.25</td>\n",
       "      <td>36.01</td>\n",
       "      <td>36.56</td>\n",
       "      <td>36.00</td>\n",
       "      <td>36.26</td>\n",
       "      <td>36.295</td>\n",
       "      <td>291634</td>\n",
       "      <td>10585315.43</td>\n",
       "      <td>1786</td>\n",
       "    </tr>\n",
       "    <tr>\n",
       "      <th>1</th>\n",
       "      <td>15.2.2019</td>\n",
       "      <td>36.03</td>\n",
       "      <td>36.06</td>\n",
       "      <td>36.59</td>\n",
       "      <td>36.65</td>\n",
       "      <td>35.51</td>\n",
       "      <td>35.91</td>\n",
       "      <td>35.909</td>\n",
       "      <td>671376</td>\n",
       "      <td>24102479.97</td>\n",
       "      <td>4163</td>\n",
       "    </tr>\n",
       "    <tr>\n",
       "      <th>2</th>\n",
       "      <td>14.2.2019</td>\n",
       "      <td>36.50</td>\n",
       "      <td>36.53</td>\n",
       "      <td>37.00</td>\n",
       "      <td>37.04</td>\n",
       "      <td>36.34</td>\n",
       "      <td>36.60</td>\n",
       "      <td>36.615</td>\n",
       "      <td>345930</td>\n",
       "      <td>12667035.85</td>\n",
       "      <td>2345</td>\n",
       "    </tr>\n",
       "    <tr>\n",
       "      <th>3</th>\n",
       "      <td>13.2.2019</td>\n",
       "      <td>37.02</td>\n",
       "      <td>37.03</td>\n",
       "      <td>36.64</td>\n",
       "      <td>37.05</td>\n",
       "      <td>36.41</td>\n",
       "      <td>37.01</td>\n",
       "      <td>36.886</td>\n",
       "      <td>594942</td>\n",
       "      <td>21908308.48</td>\n",
       "      <td>1917</td>\n",
       "    </tr>\n",
       "    <tr>\n",
       "      <th>4</th>\n",
       "      <td>12.2.2019</td>\n",
       "      <td>36.40</td>\n",
       "      <td>36.44</td>\n",
       "      <td>37.14</td>\n",
       "      <td>37.14</td>\n",
       "      <td>36.38</td>\n",
       "      <td>36.59</td>\n",
       "      <td>36.656</td>\n",
       "      <td>511672</td>\n",
       "      <td>18762991.85</td>\n",
       "      <td>2372</td>\n",
       "    </tr>\n",
       "  </tbody>\n",
       "</table>\n",
       "</div>"
      ],
      "text/plain": [
       "        Date    Bid    Ask  Opening price  High price  Low price  \\\n",
       "0  18.2.2019  36.22  36.25          36.01       36.56      36.00   \n",
       "1  15.2.2019  36.03  36.06          36.59       36.65      35.51   \n",
       "2  14.2.2019  36.50  36.53          37.00       37.04      36.34   \n",
       "3  13.2.2019  37.02  37.03          36.64       37.05      36.41   \n",
       "4  12.2.2019  36.40  36.44          37.14       37.14      36.38   \n",
       "\n",
       "   Closing price  Average price  Total volume     Turnover  Trades  \n",
       "0          36.26         36.295        291634  10585315.43    1786  \n",
       "1          35.91         35.909        671376  24102479.97    4163  \n",
       "2          36.60         36.615        345930  12667035.85    2345  \n",
       "3          37.01         36.886        594942  21908308.48    1917  \n",
       "4          36.59         36.656        511672  18762991.85    2372  "
      ]
     },
     "execution_count": 2,
     "metadata": {},
     "output_type": "execute_result"
    }
   ],
   "source": [
    "elisa=pd.read_csv('http://taanila.fi/elisa.csv',sep=';',decimal=',')\n",
    "elisa.head()"
   ]
  },
  {
   "cell_type": "code",
   "execution_count": 3,
   "metadata": {},
   "outputs": [
    {
     "data": {
      "text/html": [
       "<div>\n",
       "<style scoped>\n",
       "    .dataframe tbody tr th:only-of-type {\n",
       "        vertical-align: middle;\n",
       "    }\n",
       "\n",
       "    .dataframe tbody tr th {\n",
       "        vertical-align: top;\n",
       "    }\n",
       "\n",
       "    .dataframe thead th {\n",
       "        text-align: right;\n",
       "    }\n",
       "</style>\n",
       "<table border=\"1\" class=\"dataframe\">\n",
       "  <thead>\n",
       "    <tr style=\"text-align: right;\">\n",
       "      <th></th>\n",
       "      <th>Date</th>\n",
       "      <th>Bid</th>\n",
       "      <th>Ask</th>\n",
       "      <th>Opening price</th>\n",
       "      <th>High price</th>\n",
       "      <th>Low price</th>\n",
       "      <th>Closing price</th>\n",
       "      <th>Average price</th>\n",
       "      <th>Total volume</th>\n",
       "      <th>Turnover</th>\n",
       "      <th>Trades</th>\n",
       "    </tr>\n",
       "  </thead>\n",
       "  <tbody>\n",
       "    <tr>\n",
       "      <th>0</th>\n",
       "      <td>18.2.2019</td>\n",
       "      <td>3.800</td>\n",
       "      <td>3.804</td>\n",
       "      <td>3.790</td>\n",
       "      <td>3.804</td>\n",
       "      <td>3.775</td>\n",
       "      <td>3.804</td>\n",
       "      <td>3.792</td>\n",
       "      <td>588491</td>\n",
       "      <td>2231587.32</td>\n",
       "      <td>755</td>\n",
       "    </tr>\n",
       "    <tr>\n",
       "      <th>1</th>\n",
       "      <td>15.2.2019</td>\n",
       "      <td>3.786</td>\n",
       "      <td>3.790</td>\n",
       "      <td>3.751</td>\n",
       "      <td>3.798</td>\n",
       "      <td>3.751</td>\n",
       "      <td>3.788</td>\n",
       "      <td>3.783</td>\n",
       "      <td>1012480</td>\n",
       "      <td>3829856.53</td>\n",
       "      <td>1321</td>\n",
       "    </tr>\n",
       "    <tr>\n",
       "      <th>2</th>\n",
       "      <td>14.2.2019</td>\n",
       "      <td>3.756</td>\n",
       "      <td>3.760</td>\n",
       "      <td>3.791</td>\n",
       "      <td>3.791</td>\n",
       "      <td>3.733</td>\n",
       "      <td>3.751</td>\n",
       "      <td>3.756</td>\n",
       "      <td>996673</td>\n",
       "      <td>3743598.57</td>\n",
       "      <td>1166</td>\n",
       "    </tr>\n",
       "    <tr>\n",
       "      <th>3</th>\n",
       "      <td>13.2.2019</td>\n",
       "      <td>3.780</td>\n",
       "      <td>3.783</td>\n",
       "      <td>3.765</td>\n",
       "      <td>3.798</td>\n",
       "      <td>3.746</td>\n",
       "      <td>3.782</td>\n",
       "      <td>3.780</td>\n",
       "      <td>1152192</td>\n",
       "      <td>4353307.07</td>\n",
       "      <td>1014</td>\n",
       "    </tr>\n",
       "    <tr>\n",
       "      <th>4</th>\n",
       "      <td>12.2.2019</td>\n",
       "      <td>3.754</td>\n",
       "      <td>3.756</td>\n",
       "      <td>3.795</td>\n",
       "      <td>3.803</td>\n",
       "      <td>3.751</td>\n",
       "      <td>3.754</td>\n",
       "      <td>3.768</td>\n",
       "      <td>706413</td>\n",
       "      <td>2661704.61</td>\n",
       "      <td>933</td>\n",
       "    </tr>\n",
       "  </tbody>\n",
       "</table>\n",
       "</div>"
      ],
      "text/plain": [
       "        Date    Bid    Ask  Opening price  High price  Low price  \\\n",
       "0  18.2.2019  3.800  3.804          3.790       3.804      3.775   \n",
       "1  15.2.2019  3.786  3.790          3.751       3.798      3.751   \n",
       "2  14.2.2019  3.756  3.760          3.791       3.791      3.733   \n",
       "3  13.2.2019  3.780  3.783          3.765       3.798      3.746   \n",
       "4  12.2.2019  3.754  3.756          3.795       3.803      3.751   \n",
       "\n",
       "   Closing price  Average price  Total volume    Turnover  Trades  \n",
       "0          3.804          3.792        588491  2231587.32     755  \n",
       "1          3.788          3.783       1012480  3829856.53    1321  \n",
       "2          3.751          3.756        996673  3743598.57    1166  \n",
       "3          3.782          3.780       1152192  4353307.07    1014  \n",
       "4          3.754          3.768        706413  2661704.61     933  "
      ]
     },
     "execution_count": 3,
     "metadata": {},
     "output_type": "execute_result"
    }
   ],
   "source": [
    "telia=pd.read_csv('http://taanila.fi/telia.csv',sep=';',decimal=',')\n",
    "telia.head()"
   ]
  },
  {
   "cell_type": "code",
   "execution_count": 4,
   "metadata": {},
   "outputs": [
    {
     "data": {
      "text/html": [
       "<div>\n",
       "<style scoped>\n",
       "    .dataframe tbody tr th:only-of-type {\n",
       "        vertical-align: middle;\n",
       "    }\n",
       "\n",
       "    .dataframe tbody tr th {\n",
       "        vertical-align: top;\n",
       "    }\n",
       "\n",
       "    .dataframe thead th {\n",
       "        text-align: right;\n",
       "    }\n",
       "</style>\n",
       "<table border=\"1\" class=\"dataframe\">\n",
       "  <thead>\n",
       "    <tr style=\"text-align: right;\">\n",
       "      <th></th>\n",
       "      <th>Date</th>\n",
       "      <th>Bid</th>\n",
       "      <th>Ask</th>\n",
       "      <th>Opening price</th>\n",
       "      <th>High price</th>\n",
       "      <th>Low price</th>\n",
       "      <th>Closing price</th>\n",
       "      <th>Average price</th>\n",
       "      <th>Total volume</th>\n",
       "      <th>Turnover</th>\n",
       "      <th>Trades</th>\n",
       "    </tr>\n",
       "    <tr>\n",
       "      <th>Date</th>\n",
       "      <th></th>\n",
       "      <th></th>\n",
       "      <th></th>\n",
       "      <th></th>\n",
       "      <th></th>\n",
       "      <th></th>\n",
       "      <th></th>\n",
       "      <th></th>\n",
       "      <th></th>\n",
       "      <th></th>\n",
       "      <th></th>\n",
       "    </tr>\n",
       "  </thead>\n",
       "  <tbody>\n",
       "    <tr>\n",
       "      <th>2019-02-18</th>\n",
       "      <td>18.2.2019</td>\n",
       "      <td>36.22</td>\n",
       "      <td>36.25</td>\n",
       "      <td>36.01</td>\n",
       "      <td>36.56</td>\n",
       "      <td>36.00</td>\n",
       "      <td>36.26</td>\n",
       "      <td>36.295</td>\n",
       "      <td>291634</td>\n",
       "      <td>10585315.43</td>\n",
       "      <td>1786</td>\n",
       "    </tr>\n",
       "    <tr>\n",
       "      <th>2019-02-15</th>\n",
       "      <td>15.2.2019</td>\n",
       "      <td>36.03</td>\n",
       "      <td>36.06</td>\n",
       "      <td>36.59</td>\n",
       "      <td>36.65</td>\n",
       "      <td>35.51</td>\n",
       "      <td>35.91</td>\n",
       "      <td>35.909</td>\n",
       "      <td>671376</td>\n",
       "      <td>24102479.97</td>\n",
       "      <td>4163</td>\n",
       "    </tr>\n",
       "    <tr>\n",
       "      <th>2019-02-14</th>\n",
       "      <td>14.2.2019</td>\n",
       "      <td>36.50</td>\n",
       "      <td>36.53</td>\n",
       "      <td>37.00</td>\n",
       "      <td>37.04</td>\n",
       "      <td>36.34</td>\n",
       "      <td>36.60</td>\n",
       "      <td>36.615</td>\n",
       "      <td>345930</td>\n",
       "      <td>12667035.85</td>\n",
       "      <td>2345</td>\n",
       "    </tr>\n",
       "    <tr>\n",
       "      <th>2019-02-13</th>\n",
       "      <td>13.2.2019</td>\n",
       "      <td>37.02</td>\n",
       "      <td>37.03</td>\n",
       "      <td>36.64</td>\n",
       "      <td>37.05</td>\n",
       "      <td>36.41</td>\n",
       "      <td>37.01</td>\n",
       "      <td>36.886</td>\n",
       "      <td>594942</td>\n",
       "      <td>21908308.48</td>\n",
       "      <td>1917</td>\n",
       "    </tr>\n",
       "    <tr>\n",
       "      <th>2019-02-12</th>\n",
       "      <td>12.2.2019</td>\n",
       "      <td>36.40</td>\n",
       "      <td>36.44</td>\n",
       "      <td>37.14</td>\n",
       "      <td>37.14</td>\n",
       "      <td>36.38</td>\n",
       "      <td>36.59</td>\n",
       "      <td>36.656</td>\n",
       "      <td>511672</td>\n",
       "      <td>18762991.85</td>\n",
       "      <td>2372</td>\n",
       "    </tr>\n",
       "  </tbody>\n",
       "</table>\n",
       "</div>"
      ],
      "text/plain": [
       "                 Date    Bid    Ask  Opening price  High price  Low price  \\\n",
       "Date                                                                        \n",
       "2019-02-18  18.2.2019  36.22  36.25          36.01       36.56      36.00   \n",
       "2019-02-15  15.2.2019  36.03  36.06          36.59       36.65      35.51   \n",
       "2019-02-14  14.2.2019  36.50  36.53          37.00       37.04      36.34   \n",
       "2019-02-13  13.2.2019  37.02  37.03          36.64       37.05      36.41   \n",
       "2019-02-12  12.2.2019  36.40  36.44          37.14       37.14      36.38   \n",
       "\n",
       "            Closing price  Average price  Total volume     Turnover  Trades  \n",
       "Date                                                                         \n",
       "2019-02-18          36.26         36.295        291634  10585315.43    1786  \n",
       "2019-02-15          35.91         35.909        671376  24102479.97    4163  \n",
       "2019-02-14          36.60         36.615        345930  12667035.85    2345  \n",
       "2019-02-13          37.01         36.886        594942  21908308.48    1917  \n",
       "2019-02-12          36.59         36.656        511672  18762991.85    2372  "
      ]
     },
     "execution_count": 4,
     "metadata": {},
     "output_type": "execute_result"
    }
   ],
   "source": [
    "elisa.index=pd.to_datetime(elisa['Date'],dayfirst=True)\n",
    "elisa.head()"
   ]
  },
  {
   "cell_type": "code",
   "execution_count": 5,
   "metadata": {},
   "outputs": [
    {
     "data": {
      "text/html": [
       "<div>\n",
       "<style scoped>\n",
       "    .dataframe tbody tr th:only-of-type {\n",
       "        vertical-align: middle;\n",
       "    }\n",
       "\n",
       "    .dataframe tbody tr th {\n",
       "        vertical-align: top;\n",
       "    }\n",
       "\n",
       "    .dataframe thead th {\n",
       "        text-align: right;\n",
       "    }\n",
       "</style>\n",
       "<table border=\"1\" class=\"dataframe\">\n",
       "  <thead>\n",
       "    <tr style=\"text-align: right;\">\n",
       "      <th></th>\n",
       "      <th>Date</th>\n",
       "      <th>Bid</th>\n",
       "      <th>Ask</th>\n",
       "      <th>Opening price</th>\n",
       "      <th>High price</th>\n",
       "      <th>Low price</th>\n",
       "      <th>Closing price</th>\n",
       "      <th>Average price</th>\n",
       "      <th>Total volume</th>\n",
       "      <th>Turnover</th>\n",
       "      <th>Trades</th>\n",
       "    </tr>\n",
       "    <tr>\n",
       "      <th>Date</th>\n",
       "      <th></th>\n",
       "      <th></th>\n",
       "      <th></th>\n",
       "      <th></th>\n",
       "      <th></th>\n",
       "      <th></th>\n",
       "      <th></th>\n",
       "      <th></th>\n",
       "      <th></th>\n",
       "      <th></th>\n",
       "      <th></th>\n",
       "    </tr>\n",
       "  </thead>\n",
       "  <tbody>\n",
       "    <tr>\n",
       "      <th>2019-02-18</th>\n",
       "      <td>18.2.2019</td>\n",
       "      <td>3.800</td>\n",
       "      <td>3.804</td>\n",
       "      <td>3.790</td>\n",
       "      <td>3.804</td>\n",
       "      <td>3.775</td>\n",
       "      <td>3.804</td>\n",
       "      <td>3.792</td>\n",
       "      <td>588491</td>\n",
       "      <td>2231587.32</td>\n",
       "      <td>755</td>\n",
       "    </tr>\n",
       "    <tr>\n",
       "      <th>2019-02-15</th>\n",
       "      <td>15.2.2019</td>\n",
       "      <td>3.786</td>\n",
       "      <td>3.790</td>\n",
       "      <td>3.751</td>\n",
       "      <td>3.798</td>\n",
       "      <td>3.751</td>\n",
       "      <td>3.788</td>\n",
       "      <td>3.783</td>\n",
       "      <td>1012480</td>\n",
       "      <td>3829856.53</td>\n",
       "      <td>1321</td>\n",
       "    </tr>\n",
       "    <tr>\n",
       "      <th>2019-02-14</th>\n",
       "      <td>14.2.2019</td>\n",
       "      <td>3.756</td>\n",
       "      <td>3.760</td>\n",
       "      <td>3.791</td>\n",
       "      <td>3.791</td>\n",
       "      <td>3.733</td>\n",
       "      <td>3.751</td>\n",
       "      <td>3.756</td>\n",
       "      <td>996673</td>\n",
       "      <td>3743598.57</td>\n",
       "      <td>1166</td>\n",
       "    </tr>\n",
       "    <tr>\n",
       "      <th>2019-02-13</th>\n",
       "      <td>13.2.2019</td>\n",
       "      <td>3.780</td>\n",
       "      <td>3.783</td>\n",
       "      <td>3.765</td>\n",
       "      <td>3.798</td>\n",
       "      <td>3.746</td>\n",
       "      <td>3.782</td>\n",
       "      <td>3.780</td>\n",
       "      <td>1152192</td>\n",
       "      <td>4353307.07</td>\n",
       "      <td>1014</td>\n",
       "    </tr>\n",
       "    <tr>\n",
       "      <th>2019-02-12</th>\n",
       "      <td>12.2.2019</td>\n",
       "      <td>3.754</td>\n",
       "      <td>3.756</td>\n",
       "      <td>3.795</td>\n",
       "      <td>3.803</td>\n",
       "      <td>3.751</td>\n",
       "      <td>3.754</td>\n",
       "      <td>3.768</td>\n",
       "      <td>706413</td>\n",
       "      <td>2661704.61</td>\n",
       "      <td>933</td>\n",
       "    </tr>\n",
       "  </tbody>\n",
       "</table>\n",
       "</div>"
      ],
      "text/plain": [
       "                 Date    Bid    Ask  Opening price  High price  Low price  \\\n",
       "Date                                                                        \n",
       "2019-02-18  18.2.2019  3.800  3.804          3.790       3.804      3.775   \n",
       "2019-02-15  15.2.2019  3.786  3.790          3.751       3.798      3.751   \n",
       "2019-02-14  14.2.2019  3.756  3.760          3.791       3.791      3.733   \n",
       "2019-02-13  13.2.2019  3.780  3.783          3.765       3.798      3.746   \n",
       "2019-02-12  12.2.2019  3.754  3.756          3.795       3.803      3.751   \n",
       "\n",
       "            Closing price  Average price  Total volume    Turnover  Trades  \n",
       "Date                                                                        \n",
       "2019-02-18          3.804          3.792        588491  2231587.32     755  \n",
       "2019-02-15          3.788          3.783       1012480  3829856.53    1321  \n",
       "2019-02-14          3.751          3.756        996673  3743598.57    1166  \n",
       "2019-02-13          3.782          3.780       1152192  4353307.07    1014  \n",
       "2019-02-12          3.754          3.768        706413  2661704.61     933  "
      ]
     },
     "execution_count": 5,
     "metadata": {},
     "output_type": "execute_result"
    }
   ],
   "source": [
    "telia.index=pd.to_datetime(elisa['Date'],dayfirst=True)\n",
    "telia.head()"
   ]
  },
  {
   "cell_type": "markdown",
   "metadata": {},
   "source": [
    "Inplace järestää vanhimmasta uusimpaan"
   ]
  },
  {
   "cell_type": "code",
   "execution_count": 6,
   "metadata": {},
   "outputs": [
    {
     "data": {
      "text/html": [
       "<div>\n",
       "<style scoped>\n",
       "    .dataframe tbody tr th:only-of-type {\n",
       "        vertical-align: middle;\n",
       "    }\n",
       "\n",
       "    .dataframe tbody tr th {\n",
       "        vertical-align: top;\n",
       "    }\n",
       "\n",
       "    .dataframe thead th {\n",
       "        text-align: right;\n",
       "    }\n",
       "</style>\n",
       "<table border=\"1\" class=\"dataframe\">\n",
       "  <thead>\n",
       "    <tr style=\"text-align: right;\">\n",
       "      <th></th>\n",
       "      <th>Date</th>\n",
       "      <th>Bid</th>\n",
       "      <th>Ask</th>\n",
       "      <th>Opening price</th>\n",
       "      <th>High price</th>\n",
       "      <th>Low price</th>\n",
       "      <th>Closing price</th>\n",
       "      <th>Average price</th>\n",
       "      <th>Total volume</th>\n",
       "      <th>Turnover</th>\n",
       "      <th>Trades</th>\n",
       "    </tr>\n",
       "    <tr>\n",
       "      <th>Date</th>\n",
       "      <th></th>\n",
       "      <th></th>\n",
       "      <th></th>\n",
       "      <th></th>\n",
       "      <th></th>\n",
       "      <th></th>\n",
       "      <th></th>\n",
       "      <th></th>\n",
       "      <th></th>\n",
       "      <th></th>\n",
       "      <th></th>\n",
       "    </tr>\n",
       "  </thead>\n",
       "  <tbody>\n",
       "    <tr>\n",
       "      <th>2014-01-02</th>\n",
       "      <td>2.1.2014</td>\n",
       "      <td>19.20</td>\n",
       "      <td>19.21</td>\n",
       "      <td>19.26</td>\n",
       "      <td>19.40</td>\n",
       "      <td>19.10</td>\n",
       "      <td>19.20</td>\n",
       "      <td>19.223</td>\n",
       "      <td>235793</td>\n",
       "      <td>4532666.30</td>\n",
       "      <td>1190</td>\n",
       "    </tr>\n",
       "    <tr>\n",
       "      <th>2014-01-03</th>\n",
       "      <td>3.1.2014</td>\n",
       "      <td>19.34</td>\n",
       "      <td>19.35</td>\n",
       "      <td>19.12</td>\n",
       "      <td>19.52</td>\n",
       "      <td>19.12</td>\n",
       "      <td>19.35</td>\n",
       "      <td>19.350</td>\n",
       "      <td>306684</td>\n",
       "      <td>5934452.96</td>\n",
       "      <td>1394</td>\n",
       "    </tr>\n",
       "    <tr>\n",
       "      <th>2014-01-07</th>\n",
       "      <td>7.1.2014</td>\n",
       "      <td>19.35</td>\n",
       "      <td>19.36</td>\n",
       "      <td>19.46</td>\n",
       "      <td>19.56</td>\n",
       "      <td>19.31</td>\n",
       "      <td>19.36</td>\n",
       "      <td>19.407</td>\n",
       "      <td>390695</td>\n",
       "      <td>7582076.61</td>\n",
       "      <td>1558</td>\n",
       "    </tr>\n",
       "    <tr>\n",
       "      <th>2014-01-08</th>\n",
       "      <td>8.1.2014</td>\n",
       "      <td>19.24</td>\n",
       "      <td>19.29</td>\n",
       "      <td>19.34</td>\n",
       "      <td>19.47</td>\n",
       "      <td>19.21</td>\n",
       "      <td>19.29</td>\n",
       "      <td>19.293</td>\n",
       "      <td>318716</td>\n",
       "      <td>6149390.95</td>\n",
       "      <td>1138</td>\n",
       "    </tr>\n",
       "    <tr>\n",
       "      <th>2014-01-09</th>\n",
       "      <td>9.1.2014</td>\n",
       "      <td>19.49</td>\n",
       "      <td>19.50</td>\n",
       "      <td>19.35</td>\n",
       "      <td>19.56</td>\n",
       "      <td>19.29</td>\n",
       "      <td>19.50</td>\n",
       "      <td>19.450</td>\n",
       "      <td>357325</td>\n",
       "      <td>6950110.06</td>\n",
       "      <td>1412</td>\n",
       "    </tr>\n",
       "  </tbody>\n",
       "</table>\n",
       "</div>"
      ],
      "text/plain": [
       "                Date    Bid    Ask  Opening price  High price  Low price  \\\n",
       "Date                                                                       \n",
       "2014-01-02  2.1.2014  19.20  19.21          19.26       19.40      19.10   \n",
       "2014-01-03  3.1.2014  19.34  19.35          19.12       19.52      19.12   \n",
       "2014-01-07  7.1.2014  19.35  19.36          19.46       19.56      19.31   \n",
       "2014-01-08  8.1.2014  19.24  19.29          19.34       19.47      19.21   \n",
       "2014-01-09  9.1.2014  19.49  19.50          19.35       19.56      19.29   \n",
       "\n",
       "            Closing price  Average price  Total volume    Turnover  Trades  \n",
       "Date                                                                        \n",
       "2014-01-02          19.20         19.223        235793  4532666.30    1190  \n",
       "2014-01-03          19.35         19.350        306684  5934452.96    1394  \n",
       "2014-01-07          19.36         19.407        390695  7582076.61    1558  \n",
       "2014-01-08          19.29         19.293        318716  6149390.95    1138  \n",
       "2014-01-09          19.50         19.450        357325  6950110.06    1412  "
      ]
     },
     "execution_count": 6,
     "metadata": {},
     "output_type": "execute_result"
    }
   ],
   "source": [
    "elisa.sort_index(inplace=True)\n",
    "elisa.head()"
   ]
  },
  {
   "cell_type": "code",
   "execution_count": 7,
   "metadata": {},
   "outputs": [
    {
     "data": {
      "text/html": [
       "<div>\n",
       "<style scoped>\n",
       "    .dataframe tbody tr th:only-of-type {\n",
       "        vertical-align: middle;\n",
       "    }\n",
       "\n",
       "    .dataframe tbody tr th {\n",
       "        vertical-align: top;\n",
       "    }\n",
       "\n",
       "    .dataframe thead th {\n",
       "        text-align: right;\n",
       "    }\n",
       "</style>\n",
       "<table border=\"1\" class=\"dataframe\">\n",
       "  <thead>\n",
       "    <tr style=\"text-align: right;\">\n",
       "      <th></th>\n",
       "      <th>Date</th>\n",
       "      <th>Bid</th>\n",
       "      <th>Ask</th>\n",
       "      <th>Opening price</th>\n",
       "      <th>High price</th>\n",
       "      <th>Low price</th>\n",
       "      <th>Closing price</th>\n",
       "      <th>Average price</th>\n",
       "      <th>Total volume</th>\n",
       "      <th>Turnover</th>\n",
       "      <th>Trades</th>\n",
       "    </tr>\n",
       "    <tr>\n",
       "      <th>Date</th>\n",
       "      <th></th>\n",
       "      <th></th>\n",
       "      <th></th>\n",
       "      <th></th>\n",
       "      <th></th>\n",
       "      <th></th>\n",
       "      <th></th>\n",
       "      <th></th>\n",
       "      <th></th>\n",
       "      <th></th>\n",
       "      <th></th>\n",
       "    </tr>\n",
       "  </thead>\n",
       "  <tbody>\n",
       "    <tr>\n",
       "      <th>2014-01-02</th>\n",
       "      <td>2.1.2014</td>\n",
       "      <td>5.955</td>\n",
       "      <td>5.975</td>\n",
       "      <td>6.000</td>\n",
       "      <td>6.030</td>\n",
       "      <td>5.935</td>\n",
       "      <td>5.955</td>\n",
       "      <td>5.977</td>\n",
       "      <td>946163</td>\n",
       "      <td>5655321.115</td>\n",
       "      <td>994</td>\n",
       "    </tr>\n",
       "    <tr>\n",
       "      <th>2014-01-03</th>\n",
       "      <td>3.1.2014</td>\n",
       "      <td>5.965</td>\n",
       "      <td>5.975</td>\n",
       "      <td>5.940</td>\n",
       "      <td>6.000</td>\n",
       "      <td>5.940</td>\n",
       "      <td>5.975</td>\n",
       "      <td>5.982</td>\n",
       "      <td>778536</td>\n",
       "      <td>4657075.540</td>\n",
       "      <td>740</td>\n",
       "    </tr>\n",
       "    <tr>\n",
       "      <th>2014-01-07</th>\n",
       "      <td>7.1.2014</td>\n",
       "      <td>5.955</td>\n",
       "      <td>5.960</td>\n",
       "      <td>5.975</td>\n",
       "      <td>5.990</td>\n",
       "      <td>5.950</td>\n",
       "      <td>5.955</td>\n",
       "      <td>5.963</td>\n",
       "      <td>535438</td>\n",
       "      <td>3192607.365</td>\n",
       "      <td>631</td>\n",
       "    </tr>\n",
       "    <tr>\n",
       "      <th>2014-01-08</th>\n",
       "      <td>8.1.2014</td>\n",
       "      <td>5.890</td>\n",
       "      <td>5.895</td>\n",
       "      <td>5.960</td>\n",
       "      <td>5.960</td>\n",
       "      <td>5.880</td>\n",
       "      <td>5.895</td>\n",
       "      <td>5.919</td>\n",
       "      <td>861630</td>\n",
       "      <td>5101222.810</td>\n",
       "      <td>863</td>\n",
       "    </tr>\n",
       "    <tr>\n",
       "      <th>2014-01-09</th>\n",
       "      <td>9.1.2014</td>\n",
       "      <td>5.920</td>\n",
       "      <td>5.925</td>\n",
       "      <td>5.890</td>\n",
       "      <td>5.945</td>\n",
       "      <td>5.860</td>\n",
       "      <td>5.925</td>\n",
       "      <td>5.898</td>\n",
       "      <td>705308</td>\n",
       "      <td>4159965.545</td>\n",
       "      <td>808</td>\n",
       "    </tr>\n",
       "  </tbody>\n",
       "</table>\n",
       "</div>"
      ],
      "text/plain": [
       "                Date    Bid    Ask  Opening price  High price  Low price  \\\n",
       "Date                                                                       \n",
       "2014-01-02  2.1.2014  5.955  5.975          6.000       6.030      5.935   \n",
       "2014-01-03  3.1.2014  5.965  5.975          5.940       6.000      5.940   \n",
       "2014-01-07  7.1.2014  5.955  5.960          5.975       5.990      5.950   \n",
       "2014-01-08  8.1.2014  5.890  5.895          5.960       5.960      5.880   \n",
       "2014-01-09  9.1.2014  5.920  5.925          5.890       5.945      5.860   \n",
       "\n",
       "            Closing price  Average price  Total volume     Turnover  Trades  \n",
       "Date                                                                         \n",
       "2014-01-02          5.955          5.977        946163  5655321.115     994  \n",
       "2014-01-03          5.975          5.982        778536  4657075.540     740  \n",
       "2014-01-07          5.955          5.963        535438  3192607.365     631  \n",
       "2014-01-08          5.895          5.919        861630  5101222.810     863  \n",
       "2014-01-09          5.925          5.898        705308  4159965.545     808  "
      ]
     },
     "execution_count": 7,
     "metadata": {},
     "output_type": "execute_result"
    }
   ],
   "source": [
    "telia.sort_index(inplace=True)\n",
    "telia.head()"
   ]
  },
  {
   "cell_type": "markdown",
   "metadata": {},
   "source": [
    "Plot-in oletus on viivakuvio"
   ]
  },
  {
   "cell_type": "code",
   "execution_count": 8,
   "metadata": {},
   "outputs": [
    {
     "data": {
      "text/plain": [
       "<matplotlib.axes._subplots.AxesSubplot at 0x10472b780>"
      ]
     },
     "execution_count": 8,
     "metadata": {},
     "output_type": "execute_result"
    },
    {
     "data": {
      "image/png": "[encoded data removed]",
      "text/plain": [
       "<Figure size 432x288 with 1 Axes>"
      ]
     },
     "metadata": {
      "needs_background": "light"
     },
     "output_type": "display_data"
    }
   ],
   "source": [
    "elisa['Closing price'].plot()"
   ]
  },
  {
   "cell_type": "code",
   "execution_count": 9,
   "metadata": {},
   "outputs": [
    {
     "data": {
      "text/plain": [
       "<matplotlib.axes._subplots.AxesSubplot at 0x1156e1240>"
      ]
     },
     "execution_count": 9,
     "metadata": {},
     "output_type": "execute_result"
    },
    {
     "data": {
      "image/png": "[encoded data removed]",
      "text/plain": [
       "<Figure size 432x288 with 1 Axes>"
      ]
     },
     "metadata": {
      "needs_background": "light"
     },
     "output_type": "display_data"
    }
   ],
   "source": [
    "telia['Closing price'].plot()"
   ]
  },
  {
   "cell_type": "code",
   "execution_count": 10,
   "metadata": {},
   "outputs": [
    {
     "data": {
      "text/plain": [
       "<matplotlib.axes._subplots.AxesSubplot at 0x1157c17b8>"
      ]
     },
     "execution_count": 10,
     "metadata": {},
     "output_type": "execute_result"
    },
    {
     "data": {
      "image/png": "[encoded data removed]",
      "text/plain": [
       "<Figure size 432x288 with 1 Axes>"
      ]
     },
     "metadata": {
      "needs_background": "light"
     },
     "output_type": "display_data"
    }
   ],
   "source": [
    "elisa['Closing price']['2019-01':].plot()"
   ]
  },
  {
   "cell_type": "code",
   "execution_count": 11,
   "metadata": {},
   "outputs": [
    {
     "data": {
      "text/plain": [
       "<matplotlib.axes._subplots.AxesSubplot at 0x116329f28>"
      ]
     },
     "execution_count": 11,
     "metadata": {},
     "output_type": "execute_result"
    },
    {
     "data": {
      "image/png": "[encoded data removed]",
      "text/plain": [
       "<Figure size 432x288 with 1 Axes>"
      ]
     },
     "metadata": {
      "needs_background": "light"
     },
     "output_type": "display_data"
    }
   ],
   "source": [
    "telia['Closing price']['2019-01':].plot()"
   ]
  },
  {
   "cell_type": "code",
   "execution_count": 12,
   "metadata": {},
   "outputs": [
    {
     "data": {
      "text/plain": [
       "[<matplotlib.lines.Line2D at 0x1164509b0>]"
      ]
     },
     "execution_count": 12,
     "metadata": {},
     "output_type": "execute_result"
    },
    {
     "data": {
      "image/png": "[encoded data removed]",
      "text/plain": [
       "<Figure size 720x432 with 2 Axes>"
      ]
     },
     "metadata": {
      "needs_background": "light"
     },
     "output_type": "display_data"
    }
   ],
   "source": [
    "fig1,ax1=plt.subplots(figsize=(10,6))\n",
    "\n",
    "color='C0'\n",
    "ax1.set_ylabel('Elisa',color=color)\n",
    "ax1.plot(elisa['Closing price'],color=color)\n",
    "\n",
    "ax2=ax1.twinx()\n",
    "color='C1'\n",
    "ax2.set_ylabel('Telia',color=color)\n",
    "ax2.plot(telia['Closing price'],color=color)\n",
    "\n"
   ]
  },
  {
   "cell_type": "markdown",
   "metadata": {},
   "source": [
    "Liukuma keskiarvo"
   ]
  },
  {
   "cell_type": "code",
   "execution_count": 13,
   "metadata": {},
   "outputs": [
    {
     "data": {
      "text/plain": [
       "<matplotlib.axes._subplots.AxesSubplot at 0x1168d7438>"
      ]
     },
     "execution_count": 13,
     "metadata": {},
     "output_type": "execute_result"
    },
    {
     "data": {
      "image/png": "[encoded data removed]",
      "text/plain": [
       "<Figure size 432x288 with 1 Axes>"
      ]
     },
     "metadata": {
      "needs_background": "light"
     },
     "output_type": "display_data"
    }
   ],
   "source": [
    "elisa['Closing price'].plot()\n",
    "elisa['Closing price'].rolling(100).mean().plot()"
   ]
  },
  {
   "cell_type": "code",
   "execution_count": 14,
   "metadata": {},
   "outputs": [
    {
     "data": {
      "text/plain": [
       "<matplotlib.axes._subplots.AxesSubplot at 0x1169757f0>"
      ]
     },
     "execution_count": 14,
     "metadata": {},
     "output_type": "execute_result"
    },
    {
     "data": {
      "image/png": "[encoded data removed]",
      "text/plain": [
       "<Figure size 432x288 with 1 Axes>"
      ]
     },
     "metadata": {
      "needs_background": "light"
     },
     "output_type": "display_data"
    }
   ],
   "source": [
    "telia['Closing price'].plot()\n",
    "telia['Closing price'].rolling(100).mean().plot()"
   ]
  },
  {
   "cell_type": "markdown",
   "metadata": {},
   "source": [
    "Edellisen päivän hinnan %- muutos"
   ]
  },
  {
   "cell_type": "code",
   "execution_count": 15,
   "metadata": {},
   "outputs": [
    {
     "data": {
      "text/html": [
       "<div>\n",
       "<style scoped>\n",
       "    .dataframe tbody tr th:only-of-type {\n",
       "        vertical-align: middle;\n",
       "    }\n",
       "\n",
       "    .dataframe tbody tr th {\n",
       "        vertical-align: top;\n",
       "    }\n",
       "\n",
       "    .dataframe thead th {\n",
       "        text-align: right;\n",
       "    }\n",
       "</style>\n",
       "<table border=\"1\" class=\"dataframe\">\n",
       "  <thead>\n",
       "    <tr style=\"text-align: right;\">\n",
       "      <th></th>\n",
       "      <th>Date</th>\n",
       "      <th>Bid</th>\n",
       "      <th>Ask</th>\n",
       "      <th>Opening price</th>\n",
       "      <th>High price</th>\n",
       "      <th>Low price</th>\n",
       "      <th>Closing price</th>\n",
       "      <th>Average price</th>\n",
       "      <th>Total volume</th>\n",
       "      <th>Turnover</th>\n",
       "      <th>Trades</th>\n",
       "      <th>Elisa_change</th>\n",
       "    </tr>\n",
       "    <tr>\n",
       "      <th>Date</th>\n",
       "      <th></th>\n",
       "      <th></th>\n",
       "      <th></th>\n",
       "      <th></th>\n",
       "      <th></th>\n",
       "      <th></th>\n",
       "      <th></th>\n",
       "      <th></th>\n",
       "      <th></th>\n",
       "      <th></th>\n",
       "      <th></th>\n",
       "      <th></th>\n",
       "    </tr>\n",
       "  </thead>\n",
       "  <tbody>\n",
       "    <tr>\n",
       "      <th>2014-01-02</th>\n",
       "      <td>2.1.2014</td>\n",
       "      <td>19.20</td>\n",
       "      <td>19.21</td>\n",
       "      <td>19.26</td>\n",
       "      <td>19.40</td>\n",
       "      <td>19.10</td>\n",
       "      <td>19.20</td>\n",
       "      <td>19.223</td>\n",
       "      <td>235793</td>\n",
       "      <td>4532666.30</td>\n",
       "      <td>1190</td>\n",
       "      <td>NaN</td>\n",
       "    </tr>\n",
       "    <tr>\n",
       "      <th>2014-01-03</th>\n",
       "      <td>3.1.2014</td>\n",
       "      <td>19.34</td>\n",
       "      <td>19.35</td>\n",
       "      <td>19.12</td>\n",
       "      <td>19.52</td>\n",
       "      <td>19.12</td>\n",
       "      <td>19.35</td>\n",
       "      <td>19.350</td>\n",
       "      <td>306684</td>\n",
       "      <td>5934452.96</td>\n",
       "      <td>1394</td>\n",
       "      <td>0.007813</td>\n",
       "    </tr>\n",
       "    <tr>\n",
       "      <th>2014-01-07</th>\n",
       "      <td>7.1.2014</td>\n",
       "      <td>19.35</td>\n",
       "      <td>19.36</td>\n",
       "      <td>19.46</td>\n",
       "      <td>19.56</td>\n",
       "      <td>19.31</td>\n",
       "      <td>19.36</td>\n",
       "      <td>19.407</td>\n",
       "      <td>390695</td>\n",
       "      <td>7582076.61</td>\n",
       "      <td>1558</td>\n",
       "      <td>0.000517</td>\n",
       "    </tr>\n",
       "    <tr>\n",
       "      <th>2014-01-08</th>\n",
       "      <td>8.1.2014</td>\n",
       "      <td>19.24</td>\n",
       "      <td>19.29</td>\n",
       "      <td>19.34</td>\n",
       "      <td>19.47</td>\n",
       "      <td>19.21</td>\n",
       "      <td>19.29</td>\n",
       "      <td>19.293</td>\n",
       "      <td>318716</td>\n",
       "      <td>6149390.95</td>\n",
       "      <td>1138</td>\n",
       "      <td>-0.003616</td>\n",
       "    </tr>\n",
       "    <tr>\n",
       "      <th>2014-01-09</th>\n",
       "      <td>9.1.2014</td>\n",
       "      <td>19.49</td>\n",
       "      <td>19.50</td>\n",
       "      <td>19.35</td>\n",
       "      <td>19.56</td>\n",
       "      <td>19.29</td>\n",
       "      <td>19.50</td>\n",
       "      <td>19.450</td>\n",
       "      <td>357325</td>\n",
       "      <td>6950110.06</td>\n",
       "      <td>1412</td>\n",
       "      <td>0.010886</td>\n",
       "    </tr>\n",
       "  </tbody>\n",
       "</table>\n",
       "</div>"
      ],
      "text/plain": [
       "                Date    Bid    Ask  Opening price  High price  Low price  \\\n",
       "Date                                                                       \n",
       "2014-01-02  2.1.2014  19.20  19.21          19.26       19.40      19.10   \n",
       "2014-01-03  3.1.2014  19.34  19.35          19.12       19.52      19.12   \n",
       "2014-01-07  7.1.2014  19.35  19.36          19.46       19.56      19.31   \n",
       "2014-01-08  8.1.2014  19.24  19.29          19.34       19.47      19.21   \n",
       "2014-01-09  9.1.2014  19.49  19.50          19.35       19.56      19.29   \n",
       "\n",
       "            Closing price  Average price  Total volume    Turnover  Trades  \\\n",
       "Date                                                                         \n",
       "2014-01-02          19.20         19.223        235793  4532666.30    1190   \n",
       "2014-01-03          19.35         19.350        306684  5934452.96    1394   \n",
       "2014-01-07          19.36         19.407        390695  7582076.61    1558   \n",
       "2014-01-08          19.29         19.293        318716  6149390.95    1138   \n",
       "2014-01-09          19.50         19.450        357325  6950110.06    1412   \n",
       "\n",
       "            Elisa_change  \n",
       "Date                      \n",
       "2014-01-02           NaN  \n",
       "2014-01-03      0.007813  \n",
       "2014-01-07      0.000517  \n",
       "2014-01-08     -0.003616  \n",
       "2014-01-09      0.010886  "
      ]
     },
     "execution_count": 15,
     "metadata": {},
     "output_type": "execute_result"
    }
   ],
   "source": [
    "elisa['Elisa_change']=elisa['Closing price'].pct_change()\n",
    "elisa.head()"
   ]
  },
  {
   "cell_type": "code",
   "execution_count": 16,
   "metadata": {
    "scrolled": true
   },
   "outputs": [
    {
     "data": {
      "text/html": [
       "<div>\n",
       "<style scoped>\n",
       "    .dataframe tbody tr th:only-of-type {\n",
       "        vertical-align: middle;\n",
       "    }\n",
       "\n",
       "    .dataframe tbody tr th {\n",
       "        vertical-align: top;\n",
       "    }\n",
       "\n",
       "    .dataframe thead th {\n",
       "        text-align: right;\n",
       "    }\n",
       "</style>\n",
       "<table border=\"1\" class=\"dataframe\">\n",
       "  <thead>\n",
       "    <tr style=\"text-align: right;\">\n",
       "      <th></th>\n",
       "      <th>Date</th>\n",
       "      <th>Bid</th>\n",
       "      <th>Ask</th>\n",
       "      <th>Opening price</th>\n",
       "      <th>High price</th>\n",
       "      <th>Low price</th>\n",
       "      <th>Closing price</th>\n",
       "      <th>Average price</th>\n",
       "      <th>Total volume</th>\n",
       "      <th>Turnover</th>\n",
       "      <th>Trades</th>\n",
       "      <th>Telia_change</th>\n",
       "    </tr>\n",
       "    <tr>\n",
       "      <th>Date</th>\n",
       "      <th></th>\n",
       "      <th></th>\n",
       "      <th></th>\n",
       "      <th></th>\n",
       "      <th></th>\n",
       "      <th></th>\n",
       "      <th></th>\n",
       "      <th></th>\n",
       "      <th></th>\n",
       "      <th></th>\n",
       "      <th></th>\n",
       "      <th></th>\n",
       "    </tr>\n",
       "  </thead>\n",
       "  <tbody>\n",
       "    <tr>\n",
       "      <th>2014-01-02</th>\n",
       "      <td>2.1.2014</td>\n",
       "      <td>5.955</td>\n",
       "      <td>5.975</td>\n",
       "      <td>6.000</td>\n",
       "      <td>6.030</td>\n",
       "      <td>5.935</td>\n",
       "      <td>5.955</td>\n",
       "      <td>5.977</td>\n",
       "      <td>946163</td>\n",
       "      <td>5655321.115</td>\n",
       "      <td>994</td>\n",
       "      <td>NaN</td>\n",
       "    </tr>\n",
       "    <tr>\n",
       "      <th>2014-01-03</th>\n",
       "      <td>3.1.2014</td>\n",
       "      <td>5.965</td>\n",
       "      <td>5.975</td>\n",
       "      <td>5.940</td>\n",
       "      <td>6.000</td>\n",
       "      <td>5.940</td>\n",
       "      <td>5.975</td>\n",
       "      <td>5.982</td>\n",
       "      <td>778536</td>\n",
       "      <td>4657075.540</td>\n",
       "      <td>740</td>\n",
       "      <td>0.003359</td>\n",
       "    </tr>\n",
       "    <tr>\n",
       "      <th>2014-01-07</th>\n",
       "      <td>7.1.2014</td>\n",
       "      <td>5.955</td>\n",
       "      <td>5.960</td>\n",
       "      <td>5.975</td>\n",
       "      <td>5.990</td>\n",
       "      <td>5.950</td>\n",
       "      <td>5.955</td>\n",
       "      <td>5.963</td>\n",
       "      <td>535438</td>\n",
       "      <td>3192607.365</td>\n",
       "      <td>631</td>\n",
       "      <td>-0.003347</td>\n",
       "    </tr>\n",
       "    <tr>\n",
       "      <th>2014-01-08</th>\n",
       "      <td>8.1.2014</td>\n",
       "      <td>5.890</td>\n",
       "      <td>5.895</td>\n",
       "      <td>5.960</td>\n",
       "      <td>5.960</td>\n",
       "      <td>5.880</td>\n",
       "      <td>5.895</td>\n",
       "      <td>5.919</td>\n",
       "      <td>861630</td>\n",
       "      <td>5101222.810</td>\n",
       "      <td>863</td>\n",
       "      <td>-0.010076</td>\n",
       "    </tr>\n",
       "    <tr>\n",
       "      <th>2014-01-09</th>\n",
       "      <td>9.1.2014</td>\n",
       "      <td>5.920</td>\n",
       "      <td>5.925</td>\n",
       "      <td>5.890</td>\n",
       "      <td>5.945</td>\n",
       "      <td>5.860</td>\n",
       "      <td>5.925</td>\n",
       "      <td>5.898</td>\n",
       "      <td>705308</td>\n",
       "      <td>4159965.545</td>\n",
       "      <td>808</td>\n",
       "      <td>0.005089</td>\n",
       "    </tr>\n",
       "  </tbody>\n",
       "</table>\n",
       "</div>"
      ],
      "text/plain": [
       "                Date    Bid    Ask  Opening price  High price  Low price  \\\n",
       "Date                                                                       \n",
       "2014-01-02  2.1.2014  5.955  5.975          6.000       6.030      5.935   \n",
       "2014-01-03  3.1.2014  5.965  5.975          5.940       6.000      5.940   \n",
       "2014-01-07  7.1.2014  5.955  5.960          5.975       5.990      5.950   \n",
       "2014-01-08  8.1.2014  5.890  5.895          5.960       5.960      5.880   \n",
       "2014-01-09  9.1.2014  5.920  5.925          5.890       5.945      5.860   \n",
       "\n",
       "            Closing price  Average price  Total volume     Turnover  Trades  \\\n",
       "Date                                                                          \n",
       "2014-01-02          5.955          5.977        946163  5655321.115     994   \n",
       "2014-01-03          5.975          5.982        778536  4657075.540     740   \n",
       "2014-01-07          5.955          5.963        535438  3192607.365     631   \n",
       "2014-01-08          5.895          5.919        861630  5101222.810     863   \n",
       "2014-01-09          5.925          5.898        705308  4159965.545     808   \n",
       "\n",
       "            Telia_change  \n",
       "Date                      \n",
       "2014-01-02           NaN  \n",
       "2014-01-03      0.003359  \n",
       "2014-01-07     -0.003347  \n",
       "2014-01-08     -0.010076  \n",
       "2014-01-09      0.005089  "
      ]
     },
     "execution_count": 16,
     "metadata": {},
     "output_type": "execute_result"
    }
   ],
   "source": [
    "telia['Telia_change']=telia['Closing price'].pct_change()\n",
    "telia.head()"
   ]
  },
  {
   "cell_type": "markdown",
   "metadata": {},
   "source": [
    "CONCATILLA voi yhdistää aineksia yhteen"
   ]
  },
  {
   "cell_type": "code",
   "execution_count": 17,
   "metadata": {},
   "outputs": [
    {
     "data": {
      "text/html": [
       "<div>\n",
       "<style scoped>\n",
       "    .dataframe tbody tr th:only-of-type {\n",
       "        vertical-align: middle;\n",
       "    }\n",
       "\n",
       "    .dataframe tbody tr th {\n",
       "        vertical-align: top;\n",
       "    }\n",
       "\n",
       "    .dataframe thead th {\n",
       "        text-align: right;\n",
       "    }\n",
       "</style>\n",
       "<table border=\"1\" class=\"dataframe\">\n",
       "  <thead>\n",
       "    <tr style=\"text-align: right;\">\n",
       "      <th></th>\n",
       "      <th>Elisa_change</th>\n",
       "      <th>Telia_change</th>\n",
       "    </tr>\n",
       "    <tr>\n",
       "      <th>Date</th>\n",
       "      <th></th>\n",
       "      <th></th>\n",
       "    </tr>\n",
       "  </thead>\n",
       "  <tbody>\n",
       "    <tr>\n",
       "      <th>2014-01-02</th>\n",
       "      <td>NaN</td>\n",
       "      <td>NaN</td>\n",
       "    </tr>\n",
       "    <tr>\n",
       "      <th>2014-01-03</th>\n",
       "      <td>0.007813</td>\n",
       "      <td>0.003359</td>\n",
       "    </tr>\n",
       "    <tr>\n",
       "      <th>2014-01-07</th>\n",
       "      <td>0.000517</td>\n",
       "      <td>-0.003347</td>\n",
       "    </tr>\n",
       "    <tr>\n",
       "      <th>2014-01-08</th>\n",
       "      <td>-0.003616</td>\n",
       "      <td>-0.010076</td>\n",
       "    </tr>\n",
       "    <tr>\n",
       "      <th>2014-01-09</th>\n",
       "      <td>0.010886</td>\n",
       "      <td>0.005089</td>\n",
       "    </tr>\n",
       "  </tbody>\n",
       "</table>\n",
       "</div>"
      ],
      "text/plain": [
       "            Elisa_change  Telia_change\n",
       "Date                                  \n",
       "2014-01-02           NaN           NaN\n",
       "2014-01-03      0.007813      0.003359\n",
       "2014-01-07      0.000517     -0.003347\n",
       "2014-01-08     -0.003616     -0.010076\n",
       "2014-01-09      0.010886      0.005089"
      ]
     },
     "execution_count": 17,
     "metadata": {},
     "output_type": "execute_result"
    }
   ],
   "source": [
    "muutokset=pd.concat([elisa['Elisa_change'],telia['Telia_change']],axis=1)\n",
    "muutokset.head()"
   ]
  },
  {
   "cell_type": "code",
   "execution_count": 19,
   "metadata": {},
   "outputs": [
    {
     "data": {
      "text/plain": [
       "[Text(0, 0, '-6 %'),\n",
       " Text(0, 0, '-4 %'),\n",
       " Text(0, 0, '-2 %'),\n",
       " Text(0, 0, '0 %'),\n",
       " Text(0, 0, '2 %'),\n",
       " Text(0, 0, '4 %')]"
      ]
     },
     "execution_count": 19,
     "metadata": {},
     "output_type": "execute_result"
    },
    {
     "data": {
      "image/png": "[encoded data removed]",
      "text/plain": [
       "<Figure size 432x288 with 1 Axes>"
      ]
     },
     "metadata": {
      "needs_background": "light"
     },
     "output_type": "display_data"
    }
   ],
   "source": [
    "ax3=muutokset['2019-01':].plot()\n",
    "ax3.set_ylabel('Muutos')\n",
    "vals=ax3.get_yticks()\n",
    "ax3.set_yticklabels(['{:.0f} %'.format(y*100) for y in vals])"
   ]
  },
  {
   "cell_type": "markdown",
   "metadata": {},
   "source": [
    "TUNNUSLUKUJA Describe-lla"
   ]
  },
  {
   "cell_type": "code",
   "execution_count": 20,
   "metadata": {},
   "outputs": [
    {
     "data": {
      "text/html": [
       "<div>\n",
       "<style scoped>\n",
       "    .dataframe tbody tr th:only-of-type {\n",
       "        vertical-align: middle;\n",
       "    }\n",
       "\n",
       "    .dataframe tbody tr th {\n",
       "        vertical-align: top;\n",
       "    }\n",
       "\n",
       "    .dataframe thead th {\n",
       "        text-align: right;\n",
       "    }\n",
       "</style>\n",
       "<table border=\"1\" class=\"dataframe\">\n",
       "  <thead>\n",
       "    <tr style=\"text-align: right;\">\n",
       "      <th></th>\n",
       "      <th>Elisa_change</th>\n",
       "      <th>Telia_change</th>\n",
       "    </tr>\n",
       "  </thead>\n",
       "  <tbody>\n",
       "    <tr>\n",
       "      <th>count</th>\n",
       "      <td>1288.000000</td>\n",
       "      <td>1288.000000</td>\n",
       "    </tr>\n",
       "    <tr>\n",
       "      <th>mean</th>\n",
       "      <td>0.000593</td>\n",
       "      <td>-0.000262</td>\n",
       "    </tr>\n",
       "    <tr>\n",
       "      <th>std</th>\n",
       "      <td>0.014036</td>\n",
       "      <td>0.013090</td>\n",
       "    </tr>\n",
       "    <tr>\n",
       "      <th>min</th>\n",
       "      <td>-0.092226</td>\n",
       "      <td>-0.079728</td>\n",
       "    </tr>\n",
       "    <tr>\n",
       "      <th>25%</th>\n",
       "      <td>-0.006185</td>\n",
       "      <td>-0.006971</td>\n",
       "    </tr>\n",
       "    <tr>\n",
       "      <th>50%</th>\n",
       "      <td>0.000836</td>\n",
       "      <td>-0.000500</td>\n",
       "    </tr>\n",
       "    <tr>\n",
       "      <th>75%</th>\n",
       "      <td>0.007591</td>\n",
       "      <td>0.007057</td>\n",
       "    </tr>\n",
       "    <tr>\n",
       "      <th>max</th>\n",
       "      <td>0.065693</td>\n",
       "      <td>0.083107</td>\n",
       "    </tr>\n",
       "  </tbody>\n",
       "</table>\n",
       "</div>"
      ],
      "text/plain": [
       "       Elisa_change  Telia_change\n",
       "count   1288.000000   1288.000000\n",
       "mean       0.000593     -0.000262\n",
       "std        0.014036      0.013090\n",
       "min       -0.092226     -0.079728\n",
       "25%       -0.006185     -0.006971\n",
       "50%        0.000836     -0.000500\n",
       "75%        0.007591      0.007057\n",
       "max        0.065693      0.083107"
      ]
     },
     "execution_count": 20,
     "metadata": {},
     "output_type": "execute_result"
    }
   ],
   "source": [
    "muutokset.describe()"
   ]
  },
  {
   "cell_type": "code",
   "execution_count": 21,
   "metadata": {},
   "outputs": [
    {
     "data": {
      "text/html": [
       "<div>\n",
       "<style scoped>\n",
       "    .dataframe tbody tr th:only-of-type {\n",
       "        vertical-align: middle;\n",
       "    }\n",
       "\n",
       "    .dataframe tbody tr th {\n",
       "        vertical-align: top;\n",
       "    }\n",
       "\n",
       "    .dataframe thead th {\n",
       "        text-align: right;\n",
       "    }\n",
       "</style>\n",
       "<table border=\"1\" class=\"dataframe\">\n",
       "  <thead>\n",
       "    <tr style=\"text-align: right;\">\n",
       "      <th></th>\n",
       "      <th>Elisa_change</th>\n",
       "      <th>Telia_change</th>\n",
       "    </tr>\n",
       "    <tr>\n",
       "      <th>Date</th>\n",
       "      <th></th>\n",
       "      <th></th>\n",
       "    </tr>\n",
       "  </thead>\n",
       "  <tbody>\n",
       "    <tr>\n",
       "      <th>2014-04-03</th>\n",
       "      <td>-0.080515</td>\n",
       "      <td>-0.079307</td>\n",
       "    </tr>\n",
       "    <tr>\n",
       "      <th>2015-03-27</th>\n",
       "      <td>-0.075697</td>\n",
       "      <td>-0.012712</td>\n",
       "    </tr>\n",
       "    <tr>\n",
       "      <th>2015-04-16</th>\n",
       "      <td>0.055984</td>\n",
       "      <td>0.006346</td>\n",
       "    </tr>\n",
       "    <tr>\n",
       "      <th>2015-08-24</th>\n",
       "      <td>-0.055172</td>\n",
       "      <td>-0.058611</td>\n",
       "    </tr>\n",
       "    <tr>\n",
       "      <th>2015-08-25</th>\n",
       "      <td>0.065693</td>\n",
       "      <td>0.047335</td>\n",
       "    </tr>\n",
       "    <tr>\n",
       "      <th>2015-09-03</th>\n",
       "      <td>0.057869</td>\n",
       "      <td>0.032323</td>\n",
       "    </tr>\n",
       "    <tr>\n",
       "      <th>2015-09-25</th>\n",
       "      <td>0.061796</td>\n",
       "      <td>0.025510</td>\n",
       "    </tr>\n",
       "    <tr>\n",
       "      <th>2016-01-22</th>\n",
       "      <td>0.051540</td>\n",
       "      <td>0.037919</td>\n",
       "    </tr>\n",
       "    <tr>\n",
       "      <th>2016-04-01</th>\n",
       "      <td>-0.052092</td>\n",
       "      <td>-0.009645</td>\n",
       "    </tr>\n",
       "    <tr>\n",
       "      <th>2017-04-07</th>\n",
       "      <td>-0.055222</td>\n",
       "      <td>-0.006459</td>\n",
       "    </tr>\n",
       "    <tr>\n",
       "      <th>2017-10-18</th>\n",
       "      <td>-0.053899</td>\n",
       "      <td>-0.006816</td>\n",
       "    </tr>\n",
       "    <tr>\n",
       "      <th>2018-01-31</th>\n",
       "      <td>0.058061</td>\n",
       "      <td>0.013300</td>\n",
       "    </tr>\n",
       "    <tr>\n",
       "      <th>2018-07-13</th>\n",
       "      <td>-0.092226</td>\n",
       "      <td>-0.009455</td>\n",
       "    </tr>\n",
       "    <tr>\n",
       "      <th>2018-10-18</th>\n",
       "      <td>-0.074751</td>\n",
       "      <td>-0.000496</td>\n",
       "    </tr>\n",
       "    <tr>\n",
       "      <th>2018-11-05</th>\n",
       "      <td>0.057805</td>\n",
       "      <td>0.014457</td>\n",
       "    </tr>\n",
       "    <tr>\n",
       "      <th>2019-01-31</th>\n",
       "      <td>-0.051635</td>\n",
       "      <td>-0.008364</td>\n",
       "    </tr>\n",
       "  </tbody>\n",
       "</table>\n",
       "</div>"
      ],
      "text/plain": [
       "            Elisa_change  Telia_change\n",
       "Date                                  \n",
       "2014-04-03     -0.080515     -0.079307\n",
       "2015-03-27     -0.075697     -0.012712\n",
       "2015-04-16      0.055984      0.006346\n",
       "2015-08-24     -0.055172     -0.058611\n",
       "2015-08-25      0.065693      0.047335\n",
       "2015-09-03      0.057869      0.032323\n",
       "2015-09-25      0.061796      0.025510\n",
       "2016-01-22      0.051540      0.037919\n",
       "2016-04-01     -0.052092     -0.009645\n",
       "2017-04-07     -0.055222     -0.006459\n",
       "2017-10-18     -0.053899     -0.006816\n",
       "2018-01-31      0.058061      0.013300\n",
       "2018-07-13     -0.092226     -0.009455\n",
       "2018-10-18     -0.074751     -0.000496\n",
       "2018-11-05      0.057805      0.014457\n",
       "2019-01-31     -0.051635     -0.008364"
      ]
     },
     "execution_count": 21,
     "metadata": {},
     "output_type": "execute_result"
    }
   ],
   "source": [
    "muutokset[(muutokset['Elisa_change']<-0.05)|(muutokset['Elisa_change']>0.05)]"
   ]
  },
  {
   "cell_type": "code",
   "execution_count": 22,
   "metadata": {},
   "outputs": [
    {
     "data": {
      "text/html": [
       "<div>\n",
       "<style scoped>\n",
       "    .dataframe tbody tr th:only-of-type {\n",
       "        vertical-align: middle;\n",
       "    }\n",
       "\n",
       "    .dataframe tbody tr th {\n",
       "        vertical-align: top;\n",
       "    }\n",
       "\n",
       "    .dataframe thead th {\n",
       "        text-align: right;\n",
       "    }\n",
       "</style>\n",
       "<table border=\"1\" class=\"dataframe\">\n",
       "  <thead>\n",
       "    <tr style=\"text-align: right;\">\n",
       "      <th></th>\n",
       "      <th>Elisa_change</th>\n",
       "      <th>Telia_change</th>\n",
       "    </tr>\n",
       "  </thead>\n",
       "  <tbody>\n",
       "    <tr>\n",
       "      <th>Elisa_change</th>\n",
       "      <td>1.000000</td>\n",
       "      <td>0.513875</td>\n",
       "    </tr>\n",
       "    <tr>\n",
       "      <th>Telia_change</th>\n",
       "      <td>0.513875</td>\n",
       "      <td>1.000000</td>\n",
       "    </tr>\n",
       "  </tbody>\n",
       "</table>\n",
       "</div>"
      ],
      "text/plain": [
       "              Elisa_change  Telia_change\n",
       "Elisa_change      1.000000      0.513875\n",
       "Telia_change      0.513875      1.000000"
      ]
     },
     "execution_count": 22,
     "metadata": {},
     "output_type": "execute_result"
    }
   ],
   "source": [
    "muutokset.corr()"
   ]
  },
  {
   "cell_type": "code",
   "execution_count": 23,
   "metadata": {},
   "outputs": [
    {
     "data": {
      "text/plain": [
       "<matplotlib.axes._subplots.AxesSubplot at 0x116cab198>"
      ]
     },
     "execution_count": 23,
     "metadata": {},
     "output_type": "execute_result"
    },
    {
     "data": {
      "image/png": "[encoded data removed]",
      "text/plain": [
       "<Figure size 432x288 with 1 Axes>"
      ]
     },
     "metadata": {
      "needs_background": "light"
     },
     "output_type": "display_data"
    }
   ],
   "source": [
    "korrelaatio=muutokset['Elisa_change'].rolling(100,min_periods=30).corr(muutokset['Telia_change'])\n",
    "korrelaatio.plot()"
   ]
  },
  {
   "cell_type": "markdown",
   "metadata": {},
   "source": [
    "KESKIHAJONTA"
   ]
  },
  {
   "cell_type": "code",
   "execution_count": 25,
   "metadata": {},
   "outputs": [
    {
     "data": {
      "text/plain": [
       "<matplotlib.axes._subplots.AxesSubplot at 0x1176c05f8>"
      ]
     },
     "execution_count": 25,
     "metadata": {},
     "output_type": "execute_result"
    },
    {
     "data": {
      "image/png": "[encoded data removed]",
      "text/plain": [
       "<Figure size 432x288 with 1 Axes>"
      ]
     },
     "metadata": {
      "needs_background": "light"
     },
     "output_type": "display_data"
    }
   ],
   "source": [
    "(muutokset['Elisa_change'].rolling(252).std()*(252**0.5)).plot()"
   ]
  },
  {
   "cell_type": "code",
   "execution_count": 26,
   "metadata": {},
   "outputs": [
    {
     "data": {
      "text/plain": [
       "<matplotlib.axes._subplots.AxesSubplot at 0x116d62cc0>"
      ]
     },
     "execution_count": 26,
     "metadata": {},
     "output_type": "execute_result"
    },
    {
     "data": {
      "image/png": "[encoded data removed]",
      "text/plain": [
       "<Figure size 432x288 with 1 Axes>"
      ]
     },
     "metadata": {
      "needs_background": "light"
     },
     "output_type": "display_data"
    }
   ],
   "source": [
    "(muutokset['Telia_change'].rolling(252).std()*(252**0.5)).plot()"
   ]
  },
  {
   "cell_type": "markdown",
   "metadata": {},
   "source": [
    "Viikonpäivän sarrakeiden luonti muutokset aineston"
   ]
  },
  {
   "cell_type": "code",
   "execution_count": 27,
   "metadata": {},
   "outputs": [
    {
     "data": {
      "text/html": [
       "<div>\n",
       "<style scoped>\n",
       "    .dataframe tbody tr th:only-of-type {\n",
       "        vertical-align: middle;\n",
       "    }\n",
       "\n",
       "    .dataframe tbody tr th {\n",
       "        vertical-align: top;\n",
       "    }\n",
       "\n",
       "    .dataframe thead th {\n",
       "        text-align: right;\n",
       "    }\n",
       "</style>\n",
       "<table border=\"1\" class=\"dataframe\">\n",
       "  <thead>\n",
       "    <tr style=\"text-align: right;\">\n",
       "      <th></th>\n",
       "      <th>Elisa_change</th>\n",
       "      <th>Telia_change</th>\n",
       "      <th>Weekday</th>\n",
       "    </tr>\n",
       "    <tr>\n",
       "      <th>Date</th>\n",
       "      <th></th>\n",
       "      <th></th>\n",
       "      <th></th>\n",
       "    </tr>\n",
       "  </thead>\n",
       "  <tbody>\n",
       "    <tr>\n",
       "      <th>2014-01-02</th>\n",
       "      <td>NaN</td>\n",
       "      <td>NaN</td>\n",
       "      <td>3</td>\n",
       "    </tr>\n",
       "    <tr>\n",
       "      <th>2014-01-03</th>\n",
       "      <td>0.007813</td>\n",
       "      <td>0.003359</td>\n",
       "      <td>4</td>\n",
       "    </tr>\n",
       "    <tr>\n",
       "      <th>2014-01-07</th>\n",
       "      <td>0.000517</td>\n",
       "      <td>-0.003347</td>\n",
       "      <td>1</td>\n",
       "    </tr>\n",
       "    <tr>\n",
       "      <th>2014-01-08</th>\n",
       "      <td>-0.003616</td>\n",
       "      <td>-0.010076</td>\n",
       "      <td>2</td>\n",
       "    </tr>\n",
       "    <tr>\n",
       "      <th>2014-01-09</th>\n",
       "      <td>0.010886</td>\n",
       "      <td>0.005089</td>\n",
       "      <td>3</td>\n",
       "    </tr>\n",
       "  </tbody>\n",
       "</table>\n",
       "</div>"
      ],
      "text/plain": [
       "            Elisa_change  Telia_change  Weekday\n",
       "Date                                           \n",
       "2014-01-02           NaN           NaN        3\n",
       "2014-01-03      0.007813      0.003359        4\n",
       "2014-01-07      0.000517     -0.003347        1\n",
       "2014-01-08     -0.003616     -0.010076        2\n",
       "2014-01-09      0.010886      0.005089        3"
      ]
     },
     "execution_count": 27,
     "metadata": {},
     "output_type": "execute_result"
    }
   ],
   "source": [
    "muutokset['Weekday']=muutokset.index.weekday\n",
    "muutokset.head()"
   ]
  },
  {
   "cell_type": "markdown",
   "metadata": {},
   "source": [
    "Yhteenveto eriviikonpäivien tuotoista"
   ]
  },
  {
   "cell_type": "code",
   "execution_count": 29,
   "metadata": {},
   "outputs": [
    {
     "data": {
      "text/html": [
       "<div>\n",
       "<style scoped>\n",
       "    .dataframe tbody tr th:only-of-type {\n",
       "        vertical-align: middle;\n",
       "    }\n",
       "\n",
       "    .dataframe tbody tr th {\n",
       "        vertical-align: top;\n",
       "    }\n",
       "\n",
       "    .dataframe thead th {\n",
       "        text-align: right;\n",
       "    }\n",
       "</style>\n",
       "<table border=\"1\" class=\"dataframe\">\n",
       "  <thead>\n",
       "    <tr style=\"text-align: right;\">\n",
       "      <th></th>\n",
       "      <th>count</th>\n",
       "      <th>mean</th>\n",
       "      <th>std</th>\n",
       "      <th>min</th>\n",
       "      <th>25%</th>\n",
       "      <th>50%</th>\n",
       "      <th>75%</th>\n",
       "      <th>max</th>\n",
       "    </tr>\n",
       "    <tr>\n",
       "      <th>Weekday</th>\n",
       "      <th></th>\n",
       "      <th></th>\n",
       "      <th></th>\n",
       "      <th></th>\n",
       "      <th></th>\n",
       "      <th></th>\n",
       "      <th></th>\n",
       "      <th></th>\n",
       "    </tr>\n",
       "  </thead>\n",
       "  <tbody>\n",
       "    <tr>\n",
       "      <th>0</th>\n",
       "      <td>256.0</td>\n",
       "      <td>0.001298</td>\n",
       "      <td>0.013213</td>\n",
       "      <td>-0.055172</td>\n",
       "      <td>-0.004599</td>\n",
       "      <td>0.000846</td>\n",
       "      <td>0.007368</td>\n",
       "      <td>0.057805</td>\n",
       "    </tr>\n",
       "    <tr>\n",
       "      <th>1</th>\n",
       "      <td>261.0</td>\n",
       "      <td>0.001037</td>\n",
       "      <td>0.012697</td>\n",
       "      <td>-0.036921</td>\n",
       "      <td>-0.007297</td>\n",
       "      <td>0.000959</td>\n",
       "      <td>0.007601</td>\n",
       "      <td>0.065693</td>\n",
       "    </tr>\n",
       "    <tr>\n",
       "      <th>2</th>\n",
       "      <td>262.0</td>\n",
       "      <td>0.000255</td>\n",
       "      <td>0.012842</td>\n",
       "      <td>-0.053899</td>\n",
       "      <td>-0.005679</td>\n",
       "      <td>-0.000139</td>\n",
       "      <td>0.006947</td>\n",
       "      <td>0.058061</td>\n",
       "    </tr>\n",
       "    <tr>\n",
       "      <th>3</th>\n",
       "      <td>256.0</td>\n",
       "      <td>0.000672</td>\n",
       "      <td>0.015262</td>\n",
       "      <td>-0.080515</td>\n",
       "      <td>-0.006281</td>\n",
       "      <td>0.001090</td>\n",
       "      <td>0.008242</td>\n",
       "      <td>0.057869</td>\n",
       "    </tr>\n",
       "    <tr>\n",
       "      <th>4</th>\n",
       "      <td>253.0</td>\n",
       "      <td>-0.000310</td>\n",
       "      <td>0.015971</td>\n",
       "      <td>-0.092226</td>\n",
       "      <td>-0.007023</td>\n",
       "      <td>0.000979</td>\n",
       "      <td>0.007463</td>\n",
       "      <td>0.061796</td>\n",
       "    </tr>\n",
       "  </tbody>\n",
       "</table>\n",
       "</div>"
      ],
      "text/plain": [
       "         count      mean       std       min       25%       50%       75%  \\\n",
       "Weekday                                                                      \n",
       "0        256.0  0.001298  0.013213 -0.055172 -0.004599  0.000846  0.007368   \n",
       "1        261.0  0.001037  0.012697 -0.036921 -0.007297  0.000959  0.007601   \n",
       "2        262.0  0.000255  0.012842 -0.053899 -0.005679 -0.000139  0.006947   \n",
       "3        256.0  0.000672  0.015262 -0.080515 -0.006281  0.001090  0.008242   \n",
       "4        253.0 -0.000310  0.015971 -0.092226 -0.007023  0.000979  0.007463   \n",
       "\n",
       "              max  \n",
       "Weekday            \n",
       "0        0.057805  \n",
       "1        0.065693  \n",
       "2        0.058061  \n",
       "3        0.057869  \n",
       "4        0.061796  "
      ]
     },
     "execution_count": 29,
     "metadata": {},
     "output_type": "execute_result"
    }
   ],
   "source": [
    "muutokset.groupby('Weekday')['Elisa_change'].describe()"
   ]
  },
  {
   "cell_type": "code",
   "execution_count": null,
   "metadata": {},
   "outputs": [],
   "source": []
  }
 ],
 "metadata": {
  "kernelspec": {
   "display_name": "Python 3",
   "language": "python",
   "name": "python3"
  },
  "language_info": {
   "codemirror_mode": {
    "name": "ipython",
    "version": 3
   },
   "file_extension": ".py",
   "mimetype": "text/x-python",
   "name": "python",
   "nbconvert_exporter": "python",
   "pygments_lexer": "ipython3",
   "version": "3.7.1"
  }
 },
 "nbformat": 4,
 "nbformat_minor": 2
}
